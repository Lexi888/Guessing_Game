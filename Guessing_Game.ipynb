{
 "cells": [
  {
   "cell_type": "raw",
   "id": "8f18ef0e",
   "metadata": {},
   "source": [
    "# Check user's guess against actual answer. Print \"Too high.\" or \"Too low.\" depending on the user's answer. \n",
    "# If they got the answer correct, show the actual answer to the player.\n",
    "# Track the number of turns remaining.\n",
    "# If they run out of turns, provide feedback to the player. \n",
    "# Include two different difficulty levels (e.g., 10 guesses in easy mode, only 5 guesses in hard mode)."
   ]
  },
  {
   "cell_type": "code",
   "execution_count": 1,
   "id": "640327ab",
   "metadata": {},
   "outputs": [],
   "source": [
    "import random"
   ]
  },
  {
   "cell_type": "code",
   "execution_count": 2,
   "id": "3a1e3e20",
   "metadata": {},
   "outputs": [
    {
     "name": "stdout",
     "output_type": "stream",
     "text": [
      "Pick easy level or hard level: hard\n",
      "5\n"
     ]
    }
   ],
   "source": [
    "easy_level = 10\n",
    "hard_level = 5\n",
    "user = input(\"Pick easy level or hard level: \").lower()\n",
    "if user == \"easy\":\n",
    "    turns = easy_level\n",
    "    print(turns)\n",
    "else:\n",
    "    turns = hard_level\n",
    "    print(turns)"
   ]
  },
  {
   "cell_type": "code",
   "execution_count": 7,
   "id": "907c4aa3",
   "metadata": {},
   "outputs": [
    {
     "name": "stdout",
     "output_type": "stream",
     "text": [
      "Welcome to the Guessing Game!\n",
      "I'm thinking of a number between 1 and 100.\n",
      "Choose easy or hard level: hard\n",
      "Make a guess: 20\n",
      "Too low.\n",
      "You have 4 attempts to try.\n",
      "Make a guess: 30\n",
      "Too low.\n",
      "You have 3 attempts to try.\n",
      "Make a guess: 50\n",
      "Too low.\n",
      "You have 2 attempts to try.\n",
      "Make a guess: 70\n",
      "Too low.\n",
      "You have 1 attempts to try.\n",
      "Make a guess: 80\n",
      "Too high.\n",
      "You have 0 attempts to try.\n",
      "The correct answer is 73.\n"
     ]
    }
   ],
   "source": [
    "EASY_LEVEL_TURNS = 10\n",
    "HARD_LEVEL_TURNS = 5\n",
    "\n",
    "print(\"Welcome to the Guessing Game!\")\n",
    "print(\"I'm thinking of a number between 1 and 100.\")\n",
    "answer = random.randint(1,100)\n",
    "\n",
    "def check_answer(guess, answer, turns):\n",
    "    if guess > answer:\n",
    "        print(\"Too high.\")\n",
    "        return turns -1\n",
    "    elif guess < answer:\n",
    "        print(\"Too low.\")\n",
    "        return turns -1\n",
    "    else:\n",
    "        print(f\"You got it. The answer is {answer}.\")\n",
    "\n",
    "def set_difficulty():\n",
    "    level = input(\"Choose easy or hard level: \")\n",
    "    if level == \"easy\":\n",
    "        return EASY_LEVEL_TURNS\n",
    "    elif level == \"hard\":\n",
    "        return HARD_LEVEL_TURNS\n",
    "  \n",
    "turns = set_difficulty() \n",
    "#To trigger set_difficulty() function\n",
    "\n",
    "guess = 0 \n",
    "# global variable; The local variable\"guess\" won't be indentified as it's out side of function.\n",
    "# Set global variable just to avoid indentifying error from the following while loop.\n",
    "\n",
    "while answer!=guess and turns!=0:\n",
    "    guess = int(input(\"Make a guess: \"))\n",
    "    turns = check_answer(guess, answer, turns) \n",
    "    print(f\"You have {turns} attempts to try.\")\n",
    "    #To trigger turns inside the check_answer()function\n",
    "    if turns == 0:\n",
    "        print(f\"The correct answer is {answer}.\")\n"
   ]
  },
  {
   "cell_type": "code",
   "execution_count": 10,
   "id": "e4e7c567",
   "metadata": {},
   "outputs": [
    {
     "name": "stdout",
     "output_type": "stream",
     "text": [
      "Welcome to the Number Guessing Game!\n",
      "I'm thinking of a number between 1 and 100.\n",
      "Choose a difficulty. Type 'easy' or 'hard': hard\n",
      "You have 5 attempts remaining\n",
      "\n",
      "Make a guess: 30\n",
      "Too high\n",
      "Guess again\n",
      "You have 4 attempts remaining\n",
      "\n",
      "Make a guess: 50\n",
      "Too high\n",
      "Guess again\n",
      "You have 3 attempts remaining\n",
      "\n",
      "Make a guess: 20\n",
      "Too high\n",
      "Guess again\n",
      "You have 2 attempts remaining\n",
      "\n",
      "Make a guess: 6\n",
      "Too low\n",
      "You have 1 attempts remaining\n",
      "\n",
      "Make a guess: 10\n",
      "Too low\n",
      "You've run out of guesses, you lose!\n",
      "The answer was 19\n"
     ]
    }
   ],
   "source": [
    "print(\"Welcome to the Number Guessing Game!\\nI'm thinking of a number between 1 and 100.\")\n",
    "answer = random.randint(1, 100)\n",
    " \n",
    "def play():\n",
    "    difficulty = input(\"Choose a difficulty. Type 'easy' or 'hard': \")\n",
    "    if difficulty == 'easy':\n",
    "        num_of_attempts = 10\n",
    "    elif difficulty == 'hard':\n",
    "        num_of_attempts = 5\n",
    "    while num_of_attempts != 0:\n",
    "        print(f\"You have {num_of_attempts} attempts remaining\\n\")  \n",
    "        guess = int(input(\"Make a guess: \"))\n",
    "        if guess > answer:\n",
    "            print(\"Too high\")\n",
    "            num_of_attempts -= 1\n",
    "        elif guess < answer:\n",
    "            print(\"Too low\")\n",
    "            num_of_attempts -= 1\n",
    "        else:\n",
    "            print (f\"You got it! The answer was {guess}.\")\n",
    "            return\n",
    " \n",
    "        if num_of_attempts > 1:\n",
    "            print(\"Guess again\")\n",
    "        \n",
    "    print (f\"You've run out of guesses, you lose!\\nThe answer was {answer}\")\n",
    "play()"
   ]
  }
 ],
 "metadata": {
  "kernelspec": {
   "display_name": "Python 3 (ipykernel)",
   "language": "python",
   "name": "python3"
  },
  "language_info": {
   "codemirror_mode": {
    "name": "ipython",
    "version": 3
   },
   "file_extension": ".py",
   "mimetype": "text/x-python",
   "name": "python",
   "nbconvert_exporter": "python",
   "pygments_lexer": "ipython3",
   "version": "3.9.13"
  }
 },
 "nbformat": 4,
 "nbformat_minor": 5
}
